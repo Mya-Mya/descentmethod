{
 "cells": [
  {
   "cell_type": "code",
   "execution_count": 1,
   "metadata": {},
   "outputs": [
    {
     "data": {
      "text/plain": [
       "'\\ntestfuncs.pyとは異なり、ここでは微分を行えるようなベンチマーク関数を定義する。\\n'"
      ]
     },
     "execution_count": 1,
     "metadata": {},
     "output_type": "execute_result"
    }
   ],
   "source": [
    "'''\n",
    "testfuncs.pyとは異なり、ここでは微分を行えるようなベンチマーク関数を定義する。\n",
    "'''"
   ]
  },
  {
   "cell_type": "code",
   "execution_count": 2,
   "metadata": {},
   "outputs": [],
   "source": [
    "import numpy as np"
   ]
  },
  {
   "cell_type": "code",
   "execution_count": 3,
   "metadata": {},
   "outputs": [],
   "source": [
    "class BenchmarkFunction(object):\n",
    "    '''\n",
    "    ベンチマーク関数 f(w) w=x1,...,xN を表す。\n",
    "    NAME : 名前。\n",
    "    DIM : 次元数。\n",
    "    DOMAIN : 各引数の値域。[(x1_min,x1_max),...,(xN_min,xN_max)]\n",
    "    MINW : 最小値を取る引数。[w1,...,wM]\n",
    "    '''\n",
    "    DIM=0\n",
    "    DOMAIN=[]\n",
    "    MINW=[]\n",
    "    def __call__(self,w:np.ndarray):\n",
    "        'f(w)を返す。'\n",
    "        pass\n",
    "    def grad(self,w:np.ndarray)->np.ndarray:\n",
    "        'wにおける傾き(∂f/∂w)(w)を返す。'\n",
    "        pass"
   ]
  },
  {
   "cell_type": "code",
   "execution_count": 4,
   "metadata": {},
   "outputs": [],
   "source": [
    "class Matyas(BenchmarkFunction):\n",
    "    NAME='Matyas'\n",
    "    DIM=2\n",
    "    DOMAIN=[(-10,10),(-10,10)]\n",
    "    MINW=[[-10,-10],[10,10]]\n",
    "    def __call__(self,w:np.ndarray):\n",
    "        x,y=w[0],w[1]\n",
    "        return 0.26*(x**2+y**2)-0.48*x*y\n",
    "    def grad(self,w:np.ndarray)->np.ndarray:\n",
    "        x,y=w\n",
    "        mx=0.52*x-0.48*y\n",
    "        my=0.52*y-0.48*x\n",
    "        return np.array([mx,my])"
   ]
  },
  {
   "cell_type": "code",
   "execution_count": 5,
   "metadata": {},
   "outputs": [],
   "source": [
    "class Mccormick(BenchmarkFunction):\n",
    "    NAME='Mccormick'\n",
    "    DIM=2\n",
    "    DOMAIN=[(-1.5,4),(-3,4)]\n",
    "    MINW=[[-0.547,-1.547]]\n",
    "    def __call__(self,w:np.ndarray):\n",
    "        x,y=w\n",
    "        return np.sin(x+y)+(x-y)**2-1.5*x+2.5*y+1 \n",
    "    def grad(self,w:np.ndarray)->np.ndarray:\n",
    "        x,y=w\n",
    "        A=np.cos(x+y)\n",
    "        #mx=cos(x+y)+2x-2y-1.5\n",
    "        mx=A+2*x+-2*y-1.5\n",
    "        #my=cos(x+y)+2y-2x+2.5\n",
    "        my=A+2*y-2*x+2.5\n",
    "        return np.array([mx,my])"
   ]
  },
  {
   "cell_type": "code",
   "execution_count": 6,
   "metadata": {},
   "outputs": [],
   "source": [
    "class Himmelblau(BenchmarkFunction):\n",
    "    'みんな大好き。'\n",
    "    NAME='Himmelblau'\n",
    "    DIM=2\n",
    "    DOMAIN=[(-5,5),(-5,5)]\n",
    "    MINW=[[3,2],[-2.81,3.13],[-3.78,-3.28],[3.58,-1.85]]\n",
    "    def __call__(self,w:np.ndarray):\n",
    "        x,y=w[0],w[1]\n",
    "        return (x*x+y-11)**2+(x+y*y-7)**2\n",
    "    def grad(self,w:np.ndarray)->np.ndarray:\n",
    "        x,y=w[0],w[1]\n",
    "        A=(x*x+y-11)*2\n",
    "        B=(x+y*y-7)*2\n",
    "        return np.array([A*2*x+B,A+B*2*y])"
   ]
  },
  {
   "cell_type": "code",
   "execution_count": 7,
   "metadata": {},
   "outputs": [],
   "source": [
    "class Eggcrate(BenchmarkFunction):\n",
    "    NAME='Eggcrate'\n",
    "    DIM=2\n",
    "    DOMAIN=[(-5,5),(-5,5)]\n",
    "    MINW=[[0,0]]\n",
    "    def __call__(self,w:np.ndarray):\n",
    "        x,y=w[0],w[1]\n",
    "        return x**2+y**2+25*(np.sin(x)**2+np.sin(y)**2)\n",
    "    def grad(self,w:np.ndarray)->np.ndarray:\n",
    "        x,y=w[0],w[1]\n",
    "        #mx=2x+25*2sinxcosx\n",
    "        _2x=2*x\n",
    "        mx=_2x+25*np.sin(_2x)\n",
    "        #my=2y+25*2sinycosy\n",
    "        _2y=2*y\n",
    "        my=_2y+25*np.sin(_2y)\n",
    "        print('x={} y={} mx={} my={}'.format(x,y,mx,my))\n",
    "        return np.array([mx,my])"
   ]
  },
  {
   "cell_type": "code",
   "execution_count": 8,
   "metadata": {},
   "outputs": [],
   "source": [
    "class Bird(BenchmarkFunction):\n",
    "    NAME='Bird'\n",
    "    DIM=2\n",
    "    DOMAIN=[(-10,10),(-10,10)]\n",
    "    MINW=[[-6.282,6.282]]\n",
    "    def __call__(self,w:np.ndarray):\n",
    "        x,y=w[0],w[1]\n",
    "        sinx=np.sin(x)\n",
    "        cosy=np.cos(y)\n",
    "        return sinx*np.exp((1-cosy)**2)+cosy*np.exp((1-sinx)**2)+(x-y)**2\n",
    "    def grad(self,w:np.ndarray)->np.ndarray:\n",
    "        x,y=w[0],w[1]\n",
    "        sinx=np.sin(x)\n",
    "        siny=np.sin(y)\n",
    "        cosx=np.cos(x)\n",
    "        cosy=np.cos(y)\n",
    "        _1_min_sinx=1-sinx\n",
    "        _1_min_cosy=1-cosy\n",
    "        A=np.exp(_1_min_sinx**2)\n",
    "        B=np.exp(_1_min_cosy**2)\n",
    "        _2_x_min_y=2*(x-y)\n",
    "        mx= cosx*B -cosy*A*2*_1_min_sinx*cosx +_2_x_min_y\n",
    "        my= sinx*B*2*_1_min_cosy*sinx -siny*A -_2_x_min_y\n",
    "        return np.array([mx,my])"
   ]
  },
  {
   "cell_type": "code",
   "execution_count": 9,
   "metadata": {},
   "outputs": [],
   "source": [
    "class StyblinskiTang(BenchmarkFunction):\n",
    "    NAME='StyblinskiTang'\n",
    "    DIM=2\n",
    "    DOMAIN=[(-5,4),(-3,4)]\n",
    "    MINW=[[-2.903,-2.903]]\n",
    "    def __call__(self,w:np.ndarray):\n",
    "        x,y=w[0],w[1]\n",
    "        return (x**4-16*x**2+5*x + y**4-16*y**2+5*y)*0.5\n",
    "    def grad(self,w:np.ndarray)->np.ndarray:\n",
    "        return 2*w**3-16*w+2.5"
   ]
  },
  {
   "cell_type": "code",
   "execution_count": 10,
   "metadata": {},
   "outputs": [],
   "source": [
    "class Beale(BenchmarkFunction):\n",
    "    NAME='Beale'\n",
    "    DIM=2\n",
    "    DOMAIN=[(-4.5,4.5),(-4.5,4.5)]\n",
    "    MINW=[[3,0.5]]\n",
    "    def __call__(self,w:np.ndarray):\n",
    "        x,y=w[0],w[1]\n",
    "        return (1.5-x+x*y)**2 +(2.25-x+x*y*y)**2 +(2.625-x+x*y**3)**2\n",
    "    def grad(self,w:np.ndarray)->np.ndarray:\n",
    "        x,y=w[0],w[1]\n",
    "        gx=2*(1.5-x+x*y)*(-1+y)+2*(2.25-x+x*y*y)*(-1+y*y) +2*(2.625-x+x*y**3)*(-1+y**3)\n",
    "        gy=x*( 3-2*x -2*x*y +9*y +4*x*y**3 +15.75*y*y -6*x*y*y + 6*x*y**5 )\n",
    "        return np.array([gx,gy])"
   ]
  },
  {
   "cell_type": "code",
   "execution_count": 11,
   "metadata": {},
   "outputs": [],
   "source": [
    "class DeckKersaArts(BenchmarkFunction):\n",
    "    '平坦な谷底が続くも最適解が隠れている。'\n",
    "    NAME='DeckKersaArts'\n",
    "    DIM=2\n",
    "    DOMAIN=[(-20,20),(-20,20)]\n",
    "    MINW=[[0,15],[0,-15]]\n",
    "    def __call__(self,w:np.ndarray):\n",
    "        x,y=w[0],w[1]\n",
    "        A=(x*x+y*y)**2\n",
    "        return x*x*1e5 +y*y -A +(1e-5)*A*A\n",
    "    def grad(self,w:np.ndarray)->np.ndarray:\n",
    "        x,y=w[0],w[1]\n",
    "        A=(x*x+y*y)\n",
    "        B=-2*A+(1e-5)*4*A**3\n",
    "        gx=(1e5-B)*2*x\n",
    "        gy=(1-B)*2*y\n",
    "        return np.array([gx,gy])"
   ]
  },
  {
   "cell_type": "code",
   "execution_count": 12,
   "metadata": {},
   "outputs": [],
   "source": [
    "class Adjiman(BenchmarkFunction):\n",
    "    'スキーのパラレル。'\n",
    "    NAME='Adjiman'\n",
    "    DIM=2\n",
    "    DOMAIN=[(-1,26),(-1,1)]\n",
    "    MINW=[[0,0]]\n",
    "    def __call__(self,w:np.ndarray):\n",
    "        x,y=w[0],w[1]\n",
    "        return np.cos(x)*np.sin(y)-x/(y*y+1)\n",
    "    def grad(self,w:np.ndarray)->np.ndarray:\n",
    "        x,y=w[0],w[1]\n",
    "        A=y*y+1\n",
    "        gx= -np.sin(x)*np.sin(y) -1/A\n",
    "        gy= np.cos(x)*np.cos(y) +2*x*y/(A*A)\n",
    "        return np.array([gx,gy])"
   ]
  },
  {
   "cell_type": "code",
   "execution_count": 13,
   "metadata": {},
   "outputs": [],
   "source": [
    "class Leon(BenchmarkFunction):\n",
    "    NAME='Leon'\n",
    "    DIM=2\n",
    "    DOMAIN=[(0,10),(0,10)]\n",
    "    MINW=[[1,1]]\n",
    "    def __call__(self,w:np.ndarray):\n",
    "        x,y=w[0],w[1]\n",
    "        return 100*(y-x**3)**2+(1-x)**2\n",
    "    def grad(self,w:np.ndarray)->np.ndarray:\n",
    "        x,y=w[0],w[1]\n",
    "        A=y-x**3\n",
    "        gx=2*(-300*A*x*x +x -1)\n",
    "        gy=200*A\n",
    "        return np.array([gx,gy])"
   ]
  },
  {
   "cell_type": "code",
   "execution_count": 14,
   "metadata": {},
   "outputs": [],
   "source": [
    "class Booth(BenchmarkFunction):\n",
    "    NAME='Booth'\n",
    "    DIM=2\n",
    "    DOMAIN=[(-10,10),(-10,10)]\n",
    "    MINW=[[1,3]]\n",
    "    def __call__(self,w:np.ndarray):\n",
    "        x,y=w[0],w[1]\n",
    "        return (x+2*y-7)**2+(2*x+y-5)**2\n",
    "    def grad(self,w:np.ndarray)->np.ndarray:\n",
    "        x,y=w[0],w[1]\n",
    "        A=2*(x+2*y-7)\n",
    "        B=2*(2*x+y-5)\n",
    "        return np.array([A+B+B,A+A+B])"
   ]
  },
  {
   "cell_type": "code",
   "execution_count": 16,
   "metadata": {},
   "outputs": [],
   "source": [
    "class Exponential(BenchmarkFunction):\n",
    "    '縄文土器。'\n",
    "    NAME='Exponential'\n",
    "    DIM=2\n",
    "    DOMAIN=[(-1,1),(-1,1)]\n",
    "    MINW=[[0,0]]\n",
    "    def __call__(self,w:np.ndarray):\n",
    "        x,y=w[0],w[1]\n",
    "        return -np.exp(-0.5*(x*x+y*y))\n",
    "    def grad(self,w:np.ndarray)->np.ndarray:\n",
    "        x,y=w[0],w[1]\n",
    "        return w*np.exp(-0.5*(x*x+y*y))"
   ]
  },
  {
   "cell_type": "code",
   "execution_count": 21,
   "metadata": {},
   "outputs": [],
   "source": [
    "class Schwerel222(BenchmarkFunction):\n",
    "    '薬包紙。'\n",
    "    NAME='Schwerel222'\n",
    "    DIM=2\n",
    "    DOMAIN=[(-100,100),(-100,100)]\n",
    "    MINW=[[0,0]]\n",
    "    def __call__(self,w:np.ndarray):\n",
    "        return np.sum(np.abs(w))*np.abs(w[0]*w[1])\n",
    "    def grad(self,w:np.ndarray)->np.ndarray:\n",
    "        x,y=w[0],w[1]\n",
    "        A=1+np.abs(y)\n",
    "        if x>0:mx=A\n",
    "        elif x<0:mx=-A\n",
    "        else: mx=0\n",
    "        B=1+np.abs(x)\n",
    "        if y>0:my=B\n",
    "        elif y<0:my=-B\n",
    "        else: my=0\n",
    "        return np.array([mx,my])"
   ]
  },
  {
   "cell_type": "code",
   "execution_count": 25,
   "metadata": {},
   "outputs": [],
   "source": [
    "class SumSquare(BenchmarkFunction):\n",
    "    'グラタンの皿。'\n",
    "    NAME='SumSquare'\n",
    "    DIM=2\n",
    "    DOMAIN=[(-1,1),(-1,1)]\n",
    "    MINW=[[0,0]]\n",
    "    _grad_bias=np.array([2,4])\n",
    "    def __call__(self,w:np.ndarray):\n",
    "        return w[0]**2+2*w[1]**2\n",
    "    def grad(self,w:np.ndarray)->np.ndarray:\n",
    "        return self._grad_bias*w"
   ]
  }
 ],
 "metadata": {
  "kernelspec": {
   "display_name": "Python 3",
   "language": "python",
   "name": "python3"
  },
  "language_info": {
   "codemirror_mode": {
    "name": "ipython",
    "version": 3
   },
   "file_extension": ".py",
   "mimetype": "text/x-python",
   "name": "python",
   "nbconvert_exporter": "python",
   "pygments_lexer": "ipython3",
   "version": "3.6.9"
  },
  "varInspector": {
   "cols": {
    "lenName": 16,
    "lenType": 16,
    "lenVar": 40
   },
   "kernels_config": {
    "python": {
     "delete_cmd_postfix": "",
     "delete_cmd_prefix": "del ",
     "library": "var_list.py",
     "varRefreshCmd": "print(var_dic_list())"
    },
    "r": {
     "delete_cmd_postfix": ") ",
     "delete_cmd_prefix": "rm(",
     "library": "var_list.r",
     "varRefreshCmd": "cat(var_dic_list()) "
    }
   },
   "types_to_exclude": [
    "module",
    "function",
    "builtin_function_or_method",
    "instance",
    "_Feature"
   ],
   "window_display": false
  }
 },
 "nbformat": 4,
 "nbformat_minor": 2
}
